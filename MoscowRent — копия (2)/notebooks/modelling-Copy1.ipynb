{
 "cells": [
  {
   "cell_type": "code",
   "execution_count": 40,
   "metadata": {},
   "outputs": [],
   "source": [
    "from itertools import chain, combinations\n",
    "import pathlib\n",
    "import pickle\n",
    "\n",
    "import matplotlib.pyplot as plt\n",
    "import numpy as np\n",
    "import pandas as pd\n",
    "from sklearn.ensemble import RandomForestRegressor\n",
    "from sklearn.inspection import permutation_importance\n",
    "from sklearn.metrics import make_scorer\n",
    "from skopt import BayesSearchCV\n",
    "from skopt.space import Real, Categorical, Integer"
   ]
  },
  {
   "cell_type": "code",
   "execution_count": 22,
   "metadata": {},
   "outputs": [],
   "source": [
    "%matplotlib inline"
   ]
  },
  {
   "cell_type": "code",
   "execution_count": 23,
   "metadata": {},
   "outputs": [],
   "source": [
    "PROJECT_FOLDER_PATH = pathlib.Path().resolve().parent#'C:/Users/Arenter/Documents/Python Scripts/rent/Avito'\n",
    "EDA_DF_PATH = PROJECT_FOLDER_PATH / 'data/interim/eda_df.csv'\n",
    "SAVE_MODEL_PATH = PROJECT_FOLDER_PATH / 'data/interim/rf.pickle'"
   ]
  },
  {
   "cell_type": "code",
   "execution_count": 24,
   "metadata": {},
   "outputs": [],
   "source": [
    "def powerset(iterable):\n",
    "    s = list(iterable)\n",
    "    return chain.from_iterable(combinations(s, r) for r in range(1, len(s)+1))"
   ]
  },
  {
   "cell_type": "code",
   "execution_count": 25,
   "metadata": {},
   "outputs": [],
   "source": [
    "def mean_absolute_percentage_error(y_true, y_pred):\n",
    "    return np.mean(np.abs((y_true - y_pred) / y_true)) * 100"
   ]
  },
  {
   "cell_type": "code",
   "execution_count": 37,
   "metadata": {},
   "outputs": [],
   "source": [
    "def plot_feature_importances(importances, features, axis, title=None):\n",
    "    importances_means = importances.importances_mean\n",
    "    sorted_idx = importances_means.argsort()\n",
    "    sorted_features = features[sorted_idx]\n",
    "    y_ticks = np.arange(0, len(sorted_features))\n",
    "    axis.barh(y_ticks, importances_means[sorted_idx])\n",
    "    axis.set_yticklabels(sorted_features)\n",
    "    axis.set_yticks(y_ticks)\n",
    "    axis.set_title(title)\n",
    "    return axis"
   ]
  },
  {
   "cell_type": "code",
   "execution_count": 26,
   "metadata": {},
   "outputs": [],
   "source": [
    "df = pd.read_csv(EDA_DF_PATH, index_col=0, parse_dates=['parsing_date', 'pub_date', 'pub_time'])\n",
    "df = df[(df['pub_date'] >= pd.to_datetime('2020-08-01')) & (df['parsing_date'] != '2020-08-12')]\n",
    "df = df[(df['n_rooms'] < 3) & (df['y'] < 2) |\n",
    "        (df['n_rooms'] == 3) & (df['y'] < 2.5) |\n",
    "        (df['n_rooms'] > 3) & (df['y'] < 3.7)]"
   ]
  },
  {
   "cell_type": "code",
   "execution_count": 27,
   "metadata": {},
   "outputs": [
    {
     "data": {
      "text/plain": [
       "<matplotlib.axes._subplots.AxesSubplot at 0x231d9cdaf10>"
      ]
     },
     "execution_count": 27,
     "metadata": {},
     "output_type": "execute_result"
    },
    {
     "data": {
      "image/png": "[encoded data removed]",
      "text/plain": [
       "<Figure size 432x288 with 1 Axes>"
      ]
     },
     "metadata": {
      "needs_background": "light"
     },
     "output_type": "display_data"
    }
   ],
   "source": [
    "df.boxplot('rent', by='n_rooms')"
   ]
  },
  {
   "cell_type": "code",
   "execution_count": 28,
   "metadata": {},
   "outputs": [],
   "source": [
    "df['first_floor'] = (df['floor'] == 1).astype(int)\n",
    "df['last_floor'] = (df['floor'] == df['n_floors']).astype(int)\n",
    "\n",
    "df.drop(columns=['commission_percent', 'pub_date', 'pub_time', 'n_days', 'n_floors', 'y'], inplace=True)"
   ]
  },
  {
   "cell_type": "code",
   "execution_count": 29,
   "metadata": {},
   "outputs": [
    {
     "data": {
      "text/plain": [
       "Index(['station_distance', 'rent', 'studio', 'n_rooms', 'area', 'floor', 'mcc',\n",
       "       'circle', 'center_distance', 'first_floor', 'last_floor'],\n",
       "      dtype='object')"
      ]
     },
     "execution_count": 29,
     "metadata": {},
     "output_type": "execute_result"
    }
   ],
   "source": [
    "df_cv = df[df['parsing_date'] < pd.to_datetime('2020-08-13')].drop(columns='parsing_date')\n",
    "df_eval = df[df['parsing_date'] >= pd.to_datetime('2020-08-13')].drop(columns='parsing_date')\n",
    "df_eval.columns"
   ]
  },
  {
   "cell_type": "code",
   "execution_count": 30,
   "metadata": {},
   "outputs": [
    {
     "name": "stdout",
     "output_type": "stream",
     "text": [
      "Fitting 4 folds for each of 1 candidates, totalling 4 fits\n"
     ]
    },
    {
     "name": "stderr",
     "output_type": "stream",
     "text": [
      "[Parallel(n_jobs=1)]: Using backend SequentialBackend with 1 concurrent workers.\n",
      "[Parallel(n_jobs=1)]: Done   4 out of   4 | elapsed: 53.9min finished\n"
     ]
    },
    {
     "name": "stdout",
     "output_type": "stream",
     "text": [
      "Fitting 4 folds for each of 1 candidates, totalling 4 fits\n"
     ]
    },
    {
     "name": "stderr",
     "output_type": "stream",
     "text": [
      "[Parallel(n_jobs=1)]: Using backend SequentialBackend with 1 concurrent workers.\n",
      "[Parallel(n_jobs=1)]: Done   4 out of   4 | elapsed: 44.9min finished\n"
     ]
    },
    {
     "name": "stdout",
     "output_type": "stream",
     "text": [
      "Fitting 4 folds for each of 1 candidates, totalling 4 fits\n"
     ]
    },
    {
     "name": "stderr",
     "output_type": "stream",
     "text": [
      "[Parallel(n_jobs=1)]: Using backend SequentialBackend with 1 concurrent workers.\n",
      "[Parallel(n_jobs=1)]: Done   4 out of   4 | elapsed: 44.9min finished\n"
     ]
    },
    {
     "name": "stdout",
     "output_type": "stream",
     "text": [
      "Fitting 4 folds for each of 1 candidates, totalling 4 fits\n"
     ]
    },
    {
     "name": "stderr",
     "output_type": "stream",
     "text": [
      "[Parallel(n_jobs=1)]: Using backend SequentialBackend with 1 concurrent workers.\n",
      "[Parallel(n_jobs=1)]: Done   4 out of   4 | elapsed: 43.0min finished\n"
     ]
    },
    {
     "name": "stdout",
     "output_type": "stream",
     "text": [
      "Fitting 4 folds for each of 1 candidates, totalling 4 fits\n"
     ]
    },
    {
     "name": "stderr",
     "output_type": "stream",
     "text": [
      "[Parallel(n_jobs=1)]: Using backend SequentialBackend with 1 concurrent workers.\n",
      "[Parallel(n_jobs=1)]: Done   4 out of   4 | elapsed: 52.4min finished\n"
     ]
    },
    {
     "name": "stdout",
     "output_type": "stream",
     "text": [
      "Fitting 4 folds for each of 1 candidates, totalling 4 fits\n"
     ]
    },
    {
     "name": "stderr",
     "output_type": "stream",
     "text": [
      "[Parallel(n_jobs=1)]: Using backend SequentialBackend with 1 concurrent workers.\n",
      "[Parallel(n_jobs=1)]: Done   4 out of   4 | elapsed: 55.3min finished\n"
     ]
    },
    {
     "name": "stdout",
     "output_type": "stream",
     "text": [
      "Fitting 4 folds for each of 1 candidates, totalling 4 fits\n"
     ]
    },
    {
     "name": "stderr",
     "output_type": "stream",
     "text": [
      "[Parallel(n_jobs=1)]: Using backend SequentialBackend with 1 concurrent workers.\n",
      "[Parallel(n_jobs=1)]: Done   4 out of   4 | elapsed: 60.3min finished\n"
     ]
    }
   ],
   "source": [
    "mape_scorer = make_scorer(mean_absolute_percentage_error, greater_is_better=False)\n",
    "scores = {'subset': [],\n",
    "          'model_cv': [],\n",
    "          'holdout': []\n",
    "          }\n",
    "floor_features = ['first_floor', 'last_floor', 'floor']\n",
    "regular_features = list(set(df_cv.columns) - set(floor_features + ['rent']))\n",
    "rf = RandomForestRegressor(n_estimators=500, criterion='mae', n_jobs=1, random_state=1)\n",
    "for floor_features_subset in list(powerset(floor_features)):\n",
    "    X_cv, y_cv = df_cv[regular_features + list(floor_features_subset)], df_cv['rent']\n",
    "    X_eval, y_eval = df_eval[regular_features + list(floor_features_subset)], df_eval['rent']\n",
    "    params_space = {'min_samples_leaf': Integer(1, 30),\n",
    "                    'max_depth': Categorical([None, 50, 100, 200, 250])\n",
    "                    }\n",
    "    opt = BayesSearchCV(rf, params_space, scoring=mape_scorer, cv=4, n_iter=1,\n",
    "                        n_jobs=1, return_train_score=True, random_state=1, verbose=1)\n",
    "    opt.fit(X_cv, y_cv)\n",
    "    scores['subset'].append(floor_features_subset)\n",
    "    scores['model_cv'].append(opt)\n",
    "    scores['holdout'].append(mean_absolute_percentage_error(y_eval, opt.predict(X_eval)))"
   ]
  },
  {
   "cell_type": "code",
   "execution_count": 31,
   "metadata": {},
   "outputs": [
    {
     "data": {
      "text/plain": [
       "[16.49809788779638,\n",
       " 16.49881408571938,\n",
       " 16.183996869084314,\n",
       " 16.540364365383688,\n",
       " 16.22260196815636,\n",
       " 16.223050957113223,\n",
       " 16.239453324123588]"
      ]
     },
     "execution_count": 31,
     "metadata": {},
     "output_type": "execute_result"
    }
   ],
   "source": [
    "scores['holdout']"
   ]
  },
  {
   "cell_type": "code",
   "execution_count": 32,
   "metadata": {},
   "outputs": [
    {
     "data": {
      "text/plain": [
       "[(RandomForestRegressor(criterion='mae', max_depth=200, min_samples_leaf=3,\n",
       "                        n_estimators=500, n_jobs=1, random_state=1),\n",
       "  -16.359232878956472),\n",
       " (RandomForestRegressor(criterion='mae', max_depth=200, min_samples_leaf=3,\n",
       "                        n_estimators=500, n_jobs=1, random_state=1),\n",
       "  -16.346452969356562),\n",
       " (RandomForestRegressor(criterion='mae', max_depth=200, min_samples_leaf=3,\n",
       "                        n_estimators=500, n_jobs=1, random_state=1),\n",
       "  -16.186774386035104),\n",
       " (RandomForestRegressor(criterion='mae', max_depth=200, min_samples_leaf=3,\n",
       "                        n_estimators=500, n_jobs=1, random_state=1),\n",
       "  -16.36035905657838),\n",
       " (RandomForestRegressor(criterion='mae', max_depth=200, min_samples_leaf=3,\n",
       "                        n_estimators=500, n_jobs=1, random_state=1),\n",
       "  -16.189119521871024),\n",
       " (RandomForestRegressor(criterion='mae', max_depth=200, min_samples_leaf=3,\n",
       "                        n_estimators=500, n_jobs=1, random_state=1),\n",
       "  -16.19830574061933),\n",
       " (RandomForestRegressor(criterion='mae', max_depth=200, min_samples_leaf=3,\n",
       "                        n_estimators=500, n_jobs=1, random_state=1),\n",
       "  -16.20895052775882)]"
      ]
     },
     "execution_count": 32,
     "metadata": {},
     "output_type": "execute_result"
    }
   ],
   "source": [
    "list(zip([m.best_estimator_ for m in scores['model_cv']], [m.best_score_ for m in scores['model_cv']]))"
   ]
  },
  {
   "cell_type": "code",
   "execution_count": 35,
   "metadata": {},
   "outputs": [],
   "source": [
    "d = dict(zip(X_cv.columns, scores['model_cv'][2].best_estimator_.feature_importances_))"
   ]
  },
  {
   "cell_type": "code",
   "execution_count": 36,
   "metadata": {},
   "outputs": [
    {
     "data": {
      "text/plain": [
       "{'area': 0.6869748155750713,\n",
       " 'center_distance': 0.19158965606597528,\n",
       " 'first_floor': 0.05081193508684735,\n",
       " 'station_distance': 0.04843934007659922,\n",
       " 'n_rooms': 0.015926681006861062,\n",
       " 'circle': 0.003106473383768915,\n",
       " 'mcc': 0.002034514314539813,\n",
       " 'studio': 0.001116584490336987}"
      ]
     },
     "execution_count": 36,
     "metadata": {},
     "output_type": "execute_result"
    }
   ],
   "source": [
    "dict(sorted(d.items(), key=lambda x: x[1], reverse=True))"
   ]
  },
  {
   "cell_type": "code",
   "execution_count": 41,
   "metadata": {},
   "outputs": [],
   "source": [
    "subset_ind = 2\n",
    "floor_features_subset = scores['subset'][subset_ind]\n",
    "X_train, y_train = df_cv[regular_features + list(floor_features_subset)], df_cv['rent']\n",
    "X_test, y_test = df_eval[regular_features + list(floor_features_subset)], df_eval['rent']\n",
    "model = scores['model_cv'][subset_ind].best_estimator_\n",
    "train_importances = permutation_importance(model, X_train, y_train, scoring=mape_scorer, random_state=1)\n",
    "test_importances = permutation_importance(model, X_test, y_test, scoring=mape_scorer, random_state=1)"
   ]
  },
  {
   "cell_type": "code",
   "execution_count": 42,
   "metadata": {},
   "outputs": [
    {
     "data": {
      "image/png": "[encoded data removed]",
      "text/plain": [
       "<Figure size 864x360 with 2 Axes>"
      ]
     },
     "metadata": {
      "needs_background": "light"
     },
     "output_type": "display_data"
    }
   ],
   "source": [
    "fig, ax = plt.subplots(1, 2, figsize=(12, 5))\n",
    "plot_feature_importances(train_importances, X_train.columns, ax[0], 'Train')\n",
    "plot_feature_importances(test_importances, X_test.columns, ax[1], 'Test')\n",
    "plt.tight_layout()"
   ]
  }
 ],
 "metadata": {
  "kernelspec": {
   "display_name": "Python 3",
   "language": "python",
   "name": "python3"
  },
  "language_info": {
   "codemirror_mode": {
    "name": "ipython",
    "version": 3
   },
   "file_extension": ".py",
   "mimetype": "text/x-python",
   "name": "python",
   "nbconvert_exporter": "python",
   "pygments_lexer": "ipython3",
   "version": "3.8.3"
  }
 },
 "nbformat": 4,
 "nbformat_minor": 4
}
